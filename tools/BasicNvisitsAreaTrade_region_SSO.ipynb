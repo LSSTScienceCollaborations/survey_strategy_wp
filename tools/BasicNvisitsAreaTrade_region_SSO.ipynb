{
 "cells": [
  {
   "cell_type": "code",
   "execution_count": null,
   "metadata": {},
   "outputs": [],
   "source": [
    "import pandas as pd\n",
    "import numpy as np\n",
    "import matplotlib.pyplot as plt\n",
    "%matplotlib inline"
   ]
  },
  {
   "cell_type": "markdown",
   "metadata": {},
   "source": [
    "In this notebook, we can estimate: how many visits could we have for every field, if we evenly split a typical total number of visits over a very large sky footprint? \n",
    "\n",
    "So first: estimate the total number of visits available. "
   ]
  },
  {
   "cell_type": "code",
   "execution_count": null,
   "metadata": {},
   "outputs": [],
   "source": [
    "# Total approximate number of visits in opsim:\n",
    "totalNvis = 2400000\n",
    "# Let's say we can play with 93% of these visits\n",
    "totalNvis *= 0.93\n",
    "print(\"The number of visits available is %d (%.2fM)\" % (totalNvis, totalNvis/1000000))"
   ]
  },
  {
   "cell_type": "markdown",
   "metadata": {},
   "source": [
    "Now we'll count the number of fields we want to include in this 'big sky' footprint, using the opsim tessellation. This is equivalent to estimating the number of pointings required to cover the footprint."
   ]
  },
  {
   "cell_type": "code",
   "execution_count": null,
   "metadata": {},
   "outputs": [],
   "source": [
    "# Read the field list.\n",
    "fields = pd.read_csv('field_list.csv')\n",
    "# what does the field list look like?\n",
    "fields[0:5]"
   ]
  },
  {
   "cell_type": "code",
   "execution_count": null,
   "metadata": {},
   "outputs": [],
   "source": [
    "# Select fields with declination between -90 and 32 -- our \"big sky\" footprint\n",
    "bigsky = fields.query('(dec >= -90) and (dec <= 32)') "
   ]
  },
  {
   "cell_type": "code",
   "execution_count": null,
   "metadata": {},
   "outputs": [],
   "source": [
    "# Plot the fields so we can check what this footprint looks like.\n",
    "def radec2project(ra, dec):\n",
    "    return (np.radians(ra) - np.pi, np.radians(dec))\n",
    "\n",
    "fig = plt.figure(figsize=(8, 8))\n",
    "ax = plt.subplot(111, projection=\"aitoff\")\n",
    "x, y = radec2project(bigsky.ra, bigsky.dec)\n",
    "ax.scatter(x, y, alpha=0.5)\n",
    "plt.grid(True)"
   ]
  },
  {
   "cell_type": "code",
   "execution_count": null,
   "metadata": {},
   "outputs": [],
   "source": [
    "# How many fields are included in this \"big sky\" version of the survey?\n",
    "nfields = len(bigsky)\n",
    "print(\"The number of fields in the footprint is %d\" % (nfields))"
   ]
  },
  {
   "cell_type": "markdown",
   "metadata": {},
   "source": [
    "So how many visits could we potentially have per field, if we split them evenly among fields?"
   ]
  },
  {
   "cell_type": "code",
   "execution_count": null,
   "metadata": {},
   "outputs": [],
   "source": [
    "# Exact number of visits per field\n",
    "visPerField = totalNvis / nfields\n",
    "# Round the number of visits per field to an integer\n",
    "visPerField = int(round(visPerField))\n",
    "# And recalculate what this means for the totalNvis -- if the total # changed too much, maybe round down\n",
    "propTotal = visPerField * nfields\n",
    "print(\"This corresponds to %d visits per field\" % (visPerField, ))\n",
    "print(\"This implies a total number of visits required of %d (compared to original estimate of %d): %.2f%s change\"\n",
    "     % (propTotal, totalNvis, float(propTotal - totalNvis) / totalNvis * 100.0, \"%\"))"
   ]
  },
  {
   "cell_type": "markdown",
   "metadata": {},
   "source": [
    "Let's add some estimate on the coadded depths you could achieve.\n",
    "\n",
    "This requires assuming a dark sky, zenith, typical single visit depth and then scaling by the number of visits in each filter. "
   ]
  },
  {
   "cell_type": "code",
   "execution_count": null,
   "metadata": {},
   "outputs": [],
   "source": [
    "# Current expected performance\n",
    "single_m5 = {'u': 23.98, 'g': 24.91, 'r': 24.42, 'i': 23.97, 'z': 23.38, 'y': 22.47}"
   ]
  },
  {
   "cell_type": "code",
   "execution_count": null,
   "metadata": {},
   "outputs": [],
   "source": [
    "# How should we divide the visits? (per field) \n",
    "fractionsPerFilter = {'u': 0.12, 'g': 0.17, 'r': 0.23, 'i': 0.23, 'z': 0.25, 'z': 0.25}\n",
    "fracSum = 0\n",
    "for f, v in fractionsPerFilter.items():\n",
    "    fracSum += v\n",
    "    print('Fraction in %s: %.3f' % (f, v))\n",
    "print(\"Total: %.3f\" % (fracSum))"
   ]
  },
  {
   "cell_type": "code",
   "execution_count": null,
   "metadata": {},
   "outputs": [],
   "source": [
    "# Make actual numbers per filter .. jiggle as necessary. (note that you could set these by hand instead)\n",
    "visPerFilter = {}\n",
    "fieldTotal = 0\n",
    "for f in fractionsPerFilter:\n",
    "    visPerFilter[f] = int(round(fractionsPerFilter[f] * visPerField))\n",
    "    fieldTotal += visPerFilter[f]\n",
    "    print('Visits in %s: %d' % (f, visPerFilter[f]))\n",
    "print('Total per field: %d (compared to potential %d per field previously calculated)' %(fieldTotal, visPerField))"
   ]
  },
  {
   "cell_type": "code",
   "execution_count": null,
   "metadata": {},
   "outputs": [],
   "source": [
    "# Jiggle by hand .. \n",
    "visPerFilter['g'] += 1\n",
    "fieldTotal = 0\n",
    "for f in visPerFilter:\n",
    "    fieldTotal += visPerFilter[f]\n",
    "    print('Visits in %s: %d' % (f, visPerFilter[f]))\n",
    "print('Total per field: %d (compared to potential %d per field previously calculated)' %(fieldTotal, visPerField))"
   ]
  },
  {
   "cell_type": "markdown",
   "metadata": {},
   "source": [
    "So calculate the scaled coadded depth per filter, per field. Note that this assumes all observations are taken under the same \"dark-sky, zenith\" conditions."
   ]
  },
  {
   "cell_type": "code",
   "execution_count": null,
   "metadata": {},
   "outputs": [],
   "source": [
    "coadd_m5 = {}\n",
    "for f in visPerFilter:\n",
    "    coadd_m5[f] = single_m5[f] + 2.5 * np.log10(np.sqrt(visPerFilter[f]))\n",
    "    print(\"Coadded depth in %s: %.2f\" % (f, coadd_m5[f]))"
   ]
  },
  {
   "cell_type": "markdown",
   "metadata": {},
   "source": [
    "Given \"realistic\" opsim conditions, we would expect some typical offsets from these dark-sky, zenith coadded depths. \n",
    "Using the WFD region from kraken\\_2026 we can calculate these expected offsets:"
   ]
  },
  {
   "cell_type": "code",
   "execution_count": null,
   "metadata": {},
   "outputs": [],
   "source": [
    "# Using estimates from kraken_2026:\n",
    "kraken_single_m5 = {'u': 23.78, 'g': 24.81, 'r': 24.35, 'i': 23.92, 'z': 23.34, 'y': 22.45}\n",
    "visPerFilter = {'u': 64, 'g': 90, 'r': 206, 'i': 204, 'z': 186, 'y': 188}\n",
    "opsimCoaddM5 = {'u': 25.65, 'g': 27.15, 'r': 27.20, 'i': 26.62, 'z': 25.72, 'y': 24.91}\n",
    "kraken_coadd_m5 = {}\n",
    "offset = {}\n",
    "for f in visPerFilter:\n",
    "    kraken_coadd_m5[f] = kraken_single_m5[f] + 2.5 * np.log10(np.sqrt(visPerFilter[f]))\n",
    "    offset[f] = kraken_coadd_m5[f] - opsimCoaddM5[f]\n",
    "    print(\"Coadded depth in %s: %.2f - correction is %.2f\" % (f, kraken_coadd_m5[f], offset[f]))"
   ]
  },
  {
   "cell_type": "code",
   "execution_count": null,
   "metadata": {},
   "outputs": [],
   "source": [
    "saved_offsets = {'u': 0.39, 'g': 0.10, 'r': 0.04, 'i': 0.19, 'z': 0.46, 'y': 0.38}"
   ]
  },
  {
   "cell_type": "code",
   "execution_count": null,
   "metadata": {},
   "outputs": [],
   "source": [
    "#SCP: DEC < -60\n",
    "#GP: abs(gl) < 10\n",
    "#EP: abs(el) < 15\n",
    "#EG: abs(gl) > 10\n",
    "#LMC: r_lmc < 10\n",
    "#SMC: r_smc < 5\n",
    "#RA_LMC = 80.893750 (05h 23m 34.5)\n",
    "#DEC_LMC = -69.756111(−69° 45′ 22″)\n",
    "#RA_SMC = 13.186667 (00h 52m 44.8s)\n",
    "#DEC_SMC = -72.828611 (−72° 49′ 43″)"
   ]
  },
  {
   "cell_type": "code",
   "execution_count": null,
   "metadata": {},
   "outputs": [],
   "source": [
    "def arc(RA1, RA2, DEC1, DEC2):\n",
    "    RA1 = RA1*np.pi/180\n",
    "    RA2 = RA2*np.pi/180\n",
    "    DEC1 = DEC1*np.pi/180\n",
    "    DEC2 = DEC2*np.pi/180\n",
    "    dDEC = DEC1-DEC2\n",
    "    dRA = RA1 - RA2\n",
    "    c = (np.sin((dDEC/2.))**2 + np.cos(DEC1)*np.cos(DEC2)*np.sin(dRA/2.)**2)**0.5\n",
    "    ARC = 2*np.arcsin(c)\n",
    "    return ARC*180./np.pi"
   ]
  },
  {
   "cell_type": "code",
   "execution_count": null,
   "metadata": {},
   "outputs": [],
   "source": [
    "#define the regions\n",
    "SCP = bigsky[bigsky.dec < -60] #South Celestial Pole\n",
    "GP = bigsky[abs(bigsky.gb) <= 15] #Galactic Plane \n",
    "EP = bigsky[abs(bigsky.eb) <= 10] #Ecliptic Plane\n",
    "EG = bigsky[abs(bigsky.gb) > 20]  #extra-Galactic\n",
    "ra_LMC =  80.893750 \n",
    "dec_LMC = -69.756111\n",
    "ra_SMC = 13.186667\n",
    "dec_SMC = -72.828611\n",
    "LMC = fields[arc(fields.ra, ra_LMC, fields.dec, dec_LMC) < 10] #LMC region\n",
    "SMC = fields[arc(fields.ra, ra_SMC, fields.dec, dec_SMC) < 5] #SMC region"
   ]
  },
  {
   "cell_type": "code",
   "execution_count": null,
   "metadata": {},
   "outputs": [],
   "source": [
    "#Plot them\n",
    "fig = plt.figure(figsize=(15, 8))\n",
    "ax = plt.subplot(111, projection=\"aitoff\")\n",
    "scp_x, scp_y = radec2project(SCP.ra, SCP.dec)\n",
    "ax.scatter(scp_x, scp_y, alpha=0.5)\n",
    "ep_x, ep_y = radec2project(EP.ra, EP.dec)\n",
    "ax.scatter(ep_x, ep_y, alpha=0.5)\n",
    "gp_x, gp_y = radec2project(GP.ra, GP.dec)\n",
    "ax.scatter(gp_x, gp_y, alpha=0.5)\n",
    "lmc_x, lmc_y = radec2project(LMC.ra, LMC.dec)\n",
    "ax.scatter(lmc_x, lmc_y, alpha=0.5)\n",
    "smc_x, smc_y = radec2project(SMC.ra, SMC.dec)\n",
    "ax.scatter(smc_x, smc_y, alpha=0.5)\n",
    "plt.grid(True)"
   ]
  },
  {
   "cell_type": "code",
   "execution_count": null,
   "metadata": {},
   "outputs": [],
   "source": [
    "#count the number of fields\n",
    "nfields_EP = len(EP)\n",
    "print(\"The number of fields in the footprint is %d\" % (nfields))"
   ]
  },
  {
   "cell_type": "code",
   "execution_count": null,
   "metadata": {},
   "outputs": [],
   "source": [
    "#how many more TNOs we can get from \"bigsky\"?\n",
    "#the \"extra_area\" is the extra survey area that useful for founding solar system objects\n",
    "#the surface density of hot population TNOs is ~ 4.5/sq.deg.\n",
    "extra_area_mask = np.logical_and(bigsky.dec > 0, abs(bigsky.eb) > 10)\n",
    "extra_area_eff_mask = np.logical_and(bigsky.eb < 30, extra_area_mask)\n",
    "extra_area = bigsky[extra_area_eff_mask]                 \n",
    "print(\"extra survey area compare to the baseline: {}\".format(len(extra_area)))\n",
    "print(\"extra survey area compare to the baseline: {} sq.deg.\".format(len(extra_area)*3.5))\n",
    "print(\"extra 'hot population TNOs' compare to the baseline: {} \".format(int(round(len(extra_area)*3.5*4.5))))"
   ]
  },
  {
   "cell_type": "code",
   "execution_count": null,
   "metadata": {},
   "outputs": [],
   "source": [
    "#how many more Sedna-like (ETNOs) we can get from \"bigsky\"?\n",
    "#the surface density of Sedna-like is ~ 0.006/sq.deg.\n",
    "print(\"extra 'sedna-like' compare to the baseline: {} \".format(int(round(len(extra_area)*3.5*0.006))))"
   ]
  },
  {
   "cell_type": "code",
   "execution_count": null,
   "metadata": {},
   "outputs": [],
   "source": []
  }
 ],
 "metadata": {
  "kernelspec": {
   "display_name": "Python 3",
   "language": "python",
   "name": "python3"
  },
  "language_info": {
   "codemirror_mode": {
    "name": "ipython",
    "version": 3
   },
   "file_extension": ".py",
   "mimetype": "text/x-python",
   "name": "python",
   "nbconvert_exporter": "python",
   "pygments_lexer": "ipython3",
   "version": "3.6.5"
  }
 },
 "nbformat": 4,
 "nbformat_minor": 2
}
