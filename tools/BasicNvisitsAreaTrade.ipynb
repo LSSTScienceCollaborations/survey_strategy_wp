{
 "cells": [
  {
   "cell_type": "code",
   "execution_count": null,
   "metadata": {},
   "outputs": [],
   "source": [
    "import pandas as pd\n",
    "import numpy as np\n",
    "import matplotlib.pyplot as plt\n",
    "%matplotlib inline"
   ]
  },
  {
   "cell_type": "markdown",
   "metadata": {},
   "source": [
    "In this notebook, we can estimate: how many visits could we have for every field, if we evenly split a typical total number of visits over a very large sky footprint? \n",
    "\n",
    "So first: estimate the total number of visits available. "
   ]
  },
  {
   "cell_type": "code",
   "execution_count": null,
   "metadata": {},
   "outputs": [],
   "source": [
    "# Total approximate number of visits in opsim:\n",
    "totalNvis = 2400000\n",
    "# Let's say we can play with 93% of these visits\n",
    "totalNvis *= 0.93\n",
    "print(\"The number of visits available is %d (%.2fM)\" % (totalNvis, totalNvis/1000000))"
   ]
  },
  {
   "cell_type": "markdown",
   "metadata": {},
   "source": [
    "Now we'll count the number of fields we want to include in this 'big sky' footprint, using the opsim tessellation. This is equivalent to estimating the number of pointings required to cover the footprint."
   ]
  },
  {
   "cell_type": "code",
   "execution_count": null,
   "metadata": {},
   "outputs": [],
   "source": [
    "# Read the field list.\n",
    "fields = pd.read_csv('field_list.csv')\n",
    "# what does the field list look like?\n",
    "fields[0:5]"
   ]
  },
  {
   "cell_type": "code",
   "execution_count": null,
   "metadata": {},
   "outputs": [],
   "source": [
    "# Select fields with declination between -90 and 32 -- our \"big sky\" footprint\n",
    "bigsky = fields.query('(dec >= -90) and (dec <= 32)') "
   ]
  },
  {
   "cell_type": "code",
   "execution_count": null,
   "metadata": {},
   "outputs": [],
   "source": [
    "# Plot the fields so we can check what this footprint looks like.\n",
    "def radec2project(ra, dec):\n",
    "    return (np.radians(ra) - np.pi, np.radians(dec))\n",
    "\n",
    "fig = plt.figure(figsize=(8, 8))\n",
    "ax = plt.subplot(111, projection=\"aitoff\")\n",
    "x, y = radec2project(bigsky.ra, bigsky.dec)\n",
    "ax.scatter(x, y)\n",
    "plt.grid(True)"
   ]
  },
  {
   "cell_type": "code",
   "execution_count": null,
   "metadata": {},
   "outputs": [],
   "source": [
    "# How many fields are included in this \"big sky\" version of the survey?\n",
    "nfields = len(bigsky)\n",
    "print(\"The number of fields in the footprint is %d\" % (nfields))"
   ]
  },
  {
   "cell_type": "markdown",
   "metadata": {},
   "source": [
    "So how many visits could we potentially have per field, if we split them evenly among fields?"
   ]
  },
  {
   "cell_type": "code",
   "execution_count": null,
   "metadata": {},
   "outputs": [],
   "source": [
    "# Exact number of visits per field\n",
    "visPerField = totalNvis / nfields\n",
    "# Round the number of visits per field to an integer\n",
    "visPerField = int(round(visPerField))\n",
    "# And recalculate what this means for the totalNvis -- if the total # changed too much, maybe round down\n",
    "propTotal = visPerField * nfields\n",
    "print(\"Per field, this corresponds to %d visits\" % (visPerField, ))\n",
    "print(\"This implies a total number of visits required of %d (compared to original estimate of %d): %.2f%s change\"\n",
    "     % (propTotal, totalNvis, float(propTotal - totalNvis) / totalNvis * 100.0, \"%\"))"
   ]
  },
  {
   "cell_type": "code",
   "execution_count": null,
   "metadata": {},
   "outputs": [],
   "source": []
  }
 ],
 "metadata": {
  "kernelspec": {
   "display_name": "Python 3",
   "language": "python",
   "name": "python3"
  },
  "language_info": {
   "codemirror_mode": {
    "name": "ipython",
    "version": 3
   },
   "file_extension": ".py",
   "mimetype": "text/x-python",
   "name": "python",
   "nbconvert_exporter": "python",
   "pygments_lexer": "ipython3",
   "version": "3.6.2"
  }
 },
 "nbformat": 4,
 "nbformat_minor": 2
}
